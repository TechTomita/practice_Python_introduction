{
 "cells": [
  {
   "cell_type": "markdown",
   "id": "83420103-2ac7-4e35-9020-00cce33edd61",
   "metadata": {},
   "source": [
    "10000までの素数を数えるプログラム"
   ]
  },
  {
   "cell_type": "code",
   "execution_count": 9,
   "id": "395459ac-03ca-4f09-8694-84a31217ed72",
   "metadata": {},
   "outputs": [],
   "source": [
    "def prime_num(value):\n",
    "    numbers = []\n",
    "\n",
    "    for i in range(1, value + 1):\n",
    "        flag = True\n",
    "\n",
    "        for j in range(2, i):\n",
    "            if i % j == 0:\n",
    "                flag = False\n",
    "        if flag == True:\n",
    "            numbers.append(i)\n",
    "    return numbers"
   ]
  },
  {
   "cell_type": "code",
   "execution_count": 11,
   "id": "30cec76f-1a1f-46f5-bb0e-dfbb3e3221e9",
   "metadata": {},
   "outputs": [
    {
     "name": "stdout",
     "output_type": "stream",
     "text": [
      "[1, 2, 3, 5, 7, 11, 13, 17]\n"
     ]
    }
   ],
   "source": [
    "print(prime_num(18))"
   ]
  }
 ],
 "metadata": {
  "kernelspec": {
   "display_name": "Python 3 (ipykernel)",
   "language": "python",
   "name": "python3"
  },
  "language_info": {
   "codemirror_mode": {
    "name": "ipython",
    "version": 3
   },
   "file_extension": ".py",
   "mimetype": "text/x-python",
   "name": "python",
   "nbconvert_exporter": "python",
   "pygments_lexer": "ipython3",
   "version": "3.9.7"
  }
 },
 "nbformat": 4,
 "nbformat_minor": 5
}
