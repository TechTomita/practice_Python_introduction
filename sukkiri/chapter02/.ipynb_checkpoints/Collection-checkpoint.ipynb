{
 "cells": [
  {
   "cell_type": "code",
   "execution_count": 2,
   "id": "647e3769-379a-42e8-92c0-e751a7f4179c",
   "metadata": {},
   "outputs": [
    {
     "name": "stdout",
     "output_type": "stream",
     "text": [
      "Total: 273\n",
      "Avg: 91.0\n"
     ]
    }
   ],
   "source": [
    "# 点数管理\n",
    "network = 88\n",
    "database = 95\n",
    "security = 90\n",
    "\n",
    "total = network + database + security\n",
    "avg = total / 3\n",
    "\n",
    "print(\"Total: {}\".format(total))\n",
    "print(\"Avg: {}\".format(avg))"
   ]
  },
  {
   "cell_type": "code",
   "execution_count": 3,
   "id": "e7c3b968-f3b5-44d2-b10f-f3c178a9d372",
   "metadata": {},
   "outputs": [
    {
     "name": "stdout",
     "output_type": "stream",
     "text": [
      "['Kudou', 'Matuda', 'Asagi']\n"
     ]
    }
   ],
   "source": [
    "# リストを作成\n",
    "members = [\"Kudou\", \"Matuda\", \"Asagi\"]\n",
    "print(members)"
   ]
  },
  {
   "cell_type": "code",
   "execution_count": 4,
   "id": "464ada2e-84c5-432b-83ca-bf515af18e7d",
   "metadata": {},
   "outputs": [
    {
     "name": "stdout",
     "output_type": "stream",
     "text": [
      "Kudou\n"
     ]
    }
   ],
   "source": [
    "print(members[0])"
   ]
  },
  {
   "cell_type": "code",
   "execution_count": 6,
   "id": "83848e82-a29e-450f-8fb0-8c1f81341711",
   "metadata": {},
   "outputs": [
    {
     "name": "stdout",
     "output_type": "stream",
     "text": [
      "Total: 203\n"
     ]
    }
   ],
   "source": [
    "# 合計と平均を求める\n",
    "scores = [88, 92, 23]\n",
    "\n",
    "total = scores[0] + scores[1] + scores[2]\n",
    "print(\"Total: {}\".format(total))"
   ]
  },
  {
   "cell_type": "code",
   "execution_count": 7,
   "id": "4b8e01df-0d37-46bf-86fc-bc8a3a12f2fa",
   "metadata": {},
   "outputs": [
    {
     "name": "stdout",
     "output_type": "stream",
     "text": [
      "Total: 203\n"
     ]
    }
   ],
   "source": [
    "# sum関数\n",
    "total = sum(scores)\n",
    "print(\"Total: {}\".format(total))"
   ]
  },
  {
   "cell_type": "code",
   "execution_count": 8,
   "id": "1718bf11-34ed-4021-b400-f5b618b78ef6",
   "metadata": {},
   "outputs": [
    {
     "name": "stdout",
     "output_type": "stream",
     "text": [
      "Total: 203, Avg: 67.66666666666667\n"
     ]
    }
   ],
   "source": [
    "# リストの合計と平均を求める\n",
    "avg = total / len(scores)\n",
    "print(\"Total: {}, Avg: {}\".format(total, avg))"
   ]
  },
  {
   "cell_type": "code",
   "execution_count": 9,
   "id": "56dde5db-3a99-4a80-9db4-607402b646c3",
   "metadata": {},
   "outputs": [
    {
     "name": "stdout",
     "output_type": "stream",
     "text": [
      "['Kudou', 'Matuda', 'Asagi', 'Sugawara', 'Minato', 'Asaka']\n"
     ]
    }
   ],
   "source": [
    "# リストに要素を追加\n",
    "members.append(\"Sugawara\")\n",
    "members.append(\"Minato\")\n",
    "members.append(\"Asaka\")\n",
    "\n",
    "print(members)"
   ]
  },
  {
   "cell_type": "code",
   "execution_count": 10,
   "id": "29ab2d4e-a739-4cff-ba1d-b8f1a1c3c596",
   "metadata": {},
   "outputs": [
    {
     "name": "stdout",
     "output_type": "stream",
     "text": [
      "['Kudou', 'Asagi', 'Sugawara', 'Minato', 'Asaka']\n"
     ]
    }
   ],
   "source": [
    "# リストから要素を削除\n",
    "members.remove(\"Matuda\")\n",
    "print(members)"
   ]
  },
  {
   "cell_type": "code",
   "execution_count": 11,
   "id": "260744dc-271f-491f-aa0d-14e82a792ac3",
   "metadata": {},
   "outputs": [
    {
     "name": "stdout",
     "output_type": "stream",
     "text": [
      "['Satou', 'Asagi', 'Sugawara', 'Minato', 'Asaka']\n"
     ]
    }
   ],
   "source": [
    "# リストの要素を変更\n",
    "members[0] = \"Satou\"\n",
    "print(members)"
   ]
  },
  {
   "cell_type": "code",
   "execution_count": 13,
   "id": "8feb7320-298c-498f-b4f9-fd6cc72c66a5",
   "metadata": {},
   "outputs": [
    {
     "name": "stdout",
     "output_type": "stream",
     "text": [
      "['Satou', 'Asagi']\n",
      "['Sugawara', 'Minato', 'Asaka']\n",
      "['Satou', 'Asagi', 'Sugawara']\n"
     ]
    }
   ],
   "source": [
    "# スライス\n",
    "print(members[0:2])\n",
    "print(members[2:])\n",
    "print(members[:3])"
   ]
  },
  {
   "cell_type": "code",
   "execution_count": 14,
   "id": "e28d2aa8-45b2-49ba-8fc2-c79813c5b574",
   "metadata": {},
   "outputs": [
    {
     "name": "stdout",
     "output_type": "stream",
     "text": [
      "Sugawara\n",
      "Asaka\n"
     ]
    }
   ],
   "source": [
    "# 負の数による指定\n",
    "print(members[-3])\n",
    "print(members[-1])"
   ]
  },
  {
   "cell_type": "code",
   "execution_count": 15,
   "id": "00e07469-5617-4bff-b318-684f6556bc1b",
   "metadata": {},
   "outputs": [
    {
     "name": "stdout",
     "output_type": "stream",
     "text": [
      "{'network': 60, 'database': 80, 'security': 50}\n"
     ]
    }
   ],
   "source": [
    "# ディクショナリ\n",
    "scores = {\"network\": 60, \"database\": 80, \"security\": 50}\n",
    "print(scores)"
   ]
  },
  {
   "cell_type": "code",
   "execution_count": 19,
   "id": "3d2672ab-6989-4d82-b8bd-3ded3b67a27e",
   "metadata": {},
   "outputs": [
    {
     "name": "stdout",
     "output_type": "stream",
     "text": [
      "60\n"
     ]
    }
   ],
   "source": [
    "# 要素の参照\n",
    "print(scores[\"network\"])"
   ]
  },
  {
   "cell_type": "code",
   "execution_count": 20,
   "id": "7b114b32-55fc-4531-8edf-2da152c245b8",
   "metadata": {},
   "outputs": [
    {
     "name": "stdout",
     "output_type": "stream",
     "text": [
      "{'network': 60, 'database': 80, 'security': 100, 'programming': 67}\n"
     ]
    }
   ],
   "source": [
    "# 要素の追加と変更\n",
    "scores[\"programming\"] = 67\n",
    "scores[\"security\"] = 100\n",
    "print(scores)"
   ]
  },
  {
   "cell_type": "code",
   "execution_count": 21,
   "id": "1ac84e8e-5ff3-4870-b1b0-f8c6b725a882",
   "metadata": {},
   "outputs": [
    {
     "name": "stdout",
     "output_type": "stream",
     "text": [
      "{'network': 60, 'database': 80, 'programming': 67}\n"
     ]
    }
   ],
   "source": [
    "# 要素を削除\n",
    "del scores[\"security\"]\n",
    "print(scores)"
   ]
  },
  {
   "cell_type": "code",
   "execution_count": 24,
   "id": "50eb5a8c-f02e-47fe-a321-05474ad04889",
   "metadata": {},
   "outputs": [
    {
     "name": "stdout",
     "output_type": "stream",
     "text": [
      "207\n"
     ]
    }
   ],
   "source": [
    "# 合計を求める\n",
    "total = sum(scores.values())\n",
    "print(total)"
   ]
  },
  {
   "cell_type": "code",
   "execution_count": null,
   "id": "fe855b69-a8c9-448b-9cfc-04fd8e852115",
   "metadata": {},
   "outputs": [],
   "source": []
  }
 ],
 "metadata": {
  "kernelspec": {
   "display_name": "Python 3 (ipykernel)",
   "language": "python",
   "name": "python3"
  },
  "language_info": {
   "codemirror_mode": {
    "name": "ipython",
    "version": 3
   },
   "file_extension": ".py",
   "mimetype": "text/x-python",
   "name": "python",
   "nbconvert_exporter": "python",
   "pygments_lexer": "ipython3",
   "version": "3.9.7"
  }
 },
 "nbformat": 4,
 "nbformat_minor": 5
}
